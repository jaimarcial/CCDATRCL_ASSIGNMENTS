{
  "cells": [
    {
      "cell_type": "markdown",
      "metadata": {
        "id": "view-in-github",
        "colab_type": "text"
      },
      "source": [
        "<a href=\"https://colab.research.google.com/github/jaimarcial/CCDATRCL_ASSIGNMENTS_COM222/blob/main/exercise5.ipynb\" target=\"_parent\"><img src=\"https://colab.research.google.com/assets/colab-badge.svg\" alt=\"Open In Colab\"/></a>"
      ]
    },
    {
      "cell_type": "markdown",
      "metadata": {
        "id": "uTyY0JZsjAzX"
      },
      "source": [
        "# Exercise 5"
      ]
    },
    {
      "cell_type": "markdown",
      "metadata": {
        "id": "XbQpQ9LrjAzi"
      },
      "source": [
        "#### 1. Create a dictionary of your 10 favorite songs."
      ]
    },
    {
      "cell_type": "markdown",
      "metadata": {
        "id": "JjghT7TGjAzj"
      },
      "source": [
        "Example:\n",
        "\n",
        "|KEY|VALUE|\n",
        "|---|---|\n",
        "|001|My Love|\n",
        "|002|Like a rose|"
      ]
    },
    {
      "cell_type": "code",
      "execution_count": 4,
      "metadata": {
        "id": "oiEUU_zHjAzl",
        "colab": {
          "base_uri": "https://localhost:8080/"
        },
        "outputId": "c7ed9bc8-2917-46e4-b61d-75d363523934"
      },
      "outputs": [
        {
          "output_type": "stream",
          "name": "stdout",
          "text": [
            "{'001': 'Vibez', '002': 'Skin', '003': 'Habits', '004': 'Out of Time', '005': 'The 1', '006': 'False God', '007': 'butterflies', '008': 'Ikaw lang', '009': 'exile', '010': 'kisame'}\n"
          ]
        }
      ],
      "source": [
        "mydictionary = {\n",
        "    \"001\": \"Vibez\",\n",
        "    \"002\": \"Skin\",\n",
        "    \"003\": \"Habits\",\n",
        "    \"004\": \"Out of Time\",\n",
        "    \"005\": \"The 1\",\n",
        "    \"006\": \"False God\",\n",
        "    \"007\": \"butterflies\",\n",
        "    \"008\": \"Ikaw lang\",\n",
        "    \"009\": \"exile\",\n",
        "    \"010\": \"kisame\",\n",
        "}\n",
        "print(mydictionary)"
      ]
    },
    {
      "cell_type": "markdown",
      "metadata": {
        "id": "S5PKIJBgjAzn"
      },
      "source": [
        "#### 2. Loop through the dictionary by its **key** and **value**"
      ]
    },
    {
      "cell_type": "code",
      "execution_count": 9,
      "metadata": {
        "id": "LizzidjqjAzo",
        "colab": {
          "base_uri": "https://localhost:8080/"
        },
        "outputId": "a61fe101-e500-4a92-f849-1085b2853e07"
      },
      "outputs": [
        {
          "output_type": "stream",
          "name": "stdout",
          "text": [
            "001 Vibez\n",
            "002 Skin\n",
            "003 Habits\n",
            "004 Out of Time\n",
            "005 The 1\n",
            "006 False God\n",
            "007 butterflies\n",
            "008 Ikaw lang\n",
            "009 exile\n",
            "010 kisame\n"
          ]
        }
      ],
      "source": [
        "for x, y in mydictionary.items():\n",
        "  print(x, y)"
      ]
    },
    {
      "cell_type": "markdown",
      "metadata": {
        "id": "vvqLurC2jAzp"
      },
      "source": [
        "#### 3. Add one additional song"
      ]
    },
    {
      "cell_type": "code",
      "execution_count": 10,
      "metadata": {
        "id": "WYD35NgxjAzp",
        "colab": {
          "base_uri": "https://localhost:8080/"
        },
        "outputId": "4c88b602-f4bb-4a28-a666-1572ee53a9c6"
      },
      "outputs": [
        {
          "output_type": "execute_result",
          "data": {
            "text/plain": [
              "{'001': 'Vibez',\n",
              " '002': 'Skin',\n",
              " '003': 'Habits',\n",
              " '004': 'Out of Time',\n",
              " '005': 'The 1',\n",
              " '006': 'False God',\n",
              " '007': 'butterflies',\n",
              " '008': 'Ikaw lang',\n",
              " '009': 'exile',\n",
              " '010': 'kisame',\n",
              " '011:': \"Here's to never growing up\"}"
            ]
          },
          "metadata": {},
          "execution_count": 10
        }
      ],
      "source": [
        "mydictionary[\"011:\"] = \"Here's to never growing up\"\n",
        "mydictionary\n"
      ]
    },
    {
      "cell_type": "markdown",
      "metadata": {
        "id": "Tkz4NAMjjAzq"
      },
      "source": [
        "#### 4. Remove one song"
      ]
    },
    {
      "cell_type": "code",
      "execution_count": 11,
      "metadata": {
        "id": "UZC8mG4XjAzq",
        "colab": {
          "base_uri": "https://localhost:8080/"
        },
        "outputId": "f78a1838-765b-42e4-db16-997cd0702fb4"
      },
      "outputs": [
        {
          "output_type": "execute_result",
          "data": {
            "text/plain": [
              "{'001': 'Vibez',\n",
              " '003': 'Habits',\n",
              " '004': 'Out of Time',\n",
              " '005': 'The 1',\n",
              " '006': 'False God',\n",
              " '007': 'butterflies',\n",
              " '008': 'Ikaw lang',\n",
              " '009': 'exile',\n",
              " '010': 'kisame',\n",
              " '011:': \"Here's to never growing up\"}"
            ]
          },
          "metadata": {},
          "execution_count": 11
        }
      ],
      "source": [
        "mydictionary.pop(\"002\")\n",
        "mydictionary"
      ]
    },
    {
      "cell_type": "markdown",
      "metadata": {
        "id": "X3-ceRj5jAzr"
      },
      "source": [
        "#### 5. Create a nested dictionary of your 10 favorite songs with 5 genres. Display all of the items of the nested dictionary\n",
        "\n",
        "- Each nested dictionary's key should be the genre of the song\n",
        "- Put each song in their respective genre"
      ]
    },
    {
      "cell_type": "markdown",
      "metadata": {
        "id": "HAAmGTpQjAzs"
      },
      "source": [
        "Example:\n",
        "\n",
        "\n",
        "|KEY|VALUE|\n",
        "|---|---|\n",
        "|Pop|{001, Baby}|\n",
        "|Rock|{001, Enter Sandman}|"
      ]
    },
    {
      "cell_type": "code",
      "execution_count": 27,
      "metadata": {
        "id": "MtWvLqi6jAzs",
        "colab": {
          "base_uri": "https://localhost:8080/"
        },
        "outputId": "7e74acb2-a5f0-4fc1-b816-407041bb586c"
      },
      "outputs": [
        {
          "output_type": "execute_result",
          "data": {
            "text/plain": [
              "{'OPM': {'001': 'Upuan', '002': 'Huwag na Huwag mong sasabihin'},\n",
              " 'RnB': {'001': 'So Sick', '002': 'With you'},\n",
              " 'Pop': {'001': 'Into you', '002': 'Glad you came'},\n",
              " 'Rock': {'001': 'I write Sins not tragedies', '002': 'Bring me to Life'},\n",
              " 'Hip-hop': {'001': 'Rich flex', '002': 'Trance'}}"
            ]
          },
          "metadata": {},
          "execution_count": 27
        }
      ],
      "source": [
        "mydictionary = {\n",
        "    \"OPM\" : {\n",
        "        \"001\" : \"Upuan\",\n",
        "        \"002\" : \"Huwag na Huwag mong sasabihin\"\n",
        "    },\n",
        "    \"RnB\" : {\n",
        "        \"001\" : \"So Sick\",\n",
        "        \"002\" : \"With you\"\n",
        "    },\n",
        "    \"Pop\" : {\n",
        "        \"001\" : \"Into you\",\n",
        "        \"002\" : \"Glad you came\"\n",
        "    },\n",
        "    \"Rock\" : {\n",
        "        \"001\" : \"I write Sins not tragedies\",\n",
        "        \"002\" : \"Bring me to Life\"\n",
        "    },\n",
        "    \"Hip-hop\" : {\n",
        "        \"001\" : \"Rich flex\",\n",
        "        \"002\" : \"Trance\"\n",
        "    }\n",
        "}\n",
        "mydictionary"
      ]
    },
    {
      "cell_type": "markdown",
      "metadata": {
        "id": "fRZ1W-i3jAzt"
      },
      "source": [
        "#### 6. Print the first song of the first genre"
      ]
    },
    {
      "cell_type": "code",
      "execution_count": 28,
      "metadata": {
        "id": "8Xu_asQojAzt",
        "colab": {
          "base_uri": "https://localhost:8080/"
        },
        "outputId": "4c034c2f-d6f9-4764-a781-1ee52dc4904c"
      },
      "outputs": [
        {
          "output_type": "stream",
          "name": "stdout",
          "text": [
            "Upuan\n"
          ]
        }
      ],
      "source": [
        "print(mydictionary[\"OPM\"][\"001\"])"
      ]
    },
    {
      "cell_type": "markdown",
      "metadata": {
        "id": "nFNZmg6RjAzu"
      },
      "source": [
        "#### 7. Print the first song of the last genre"
      ]
    },
    {
      "cell_type": "code",
      "execution_count": 18,
      "metadata": {
        "id": "kmsc12swjAzu",
        "colab": {
          "base_uri": "https://localhost:8080/"
        },
        "outputId": "24990a85-fcc0-477f-e7da-5c469c47c005"
      },
      "outputs": [
        {
          "output_type": "stream",
          "name": "stdout",
          "text": [
            "Rich flex\n"
          ]
        }
      ],
      "source": [
        "print(mydictionary[\"Hip-hop\"][\"001\"])"
      ]
    }
  ],
  "metadata": {
    "kernelspec": {
      "display_name": "Python 3",
      "language": "python",
      "name": "python3"
    },
    "language_info": {
      "codemirror_mode": {
        "name": "ipython",
        "version": 3
      },
      "file_extension": ".py",
      "mimetype": "text/x-python",
      "name": "python",
      "nbconvert_exporter": "python",
      "pygments_lexer": "ipython3",
      "version": "3.11.4"
    },
    "orig_nbformat": 4,
    "colab": {
      "provenance": [],
      "include_colab_link": true
    }
  },
  "nbformat": 4,
  "nbformat_minor": 0
}
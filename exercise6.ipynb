{
  "cells": [
    {
      "cell_type": "markdown",
      "metadata": {
        "id": "view-in-github",
        "colab_type": "text"
      },
      "source": [
        "<a href=\"https://colab.research.google.com/github/jaimarcial/CCDATRCL_ASSIGNMENTS_COM222/blob/main/exercise6.ipynb\" target=\"_parent\"><img src=\"https://colab.research.google.com/assets/colab-badge.svg\" alt=\"Open In Colab\"/></a>"
      ]
    },
    {
      "cell_type": "markdown",
      "metadata": {
        "id": "xrJ2zH-UCojb"
      },
      "source": [
        "# Exercise 6"
      ]
    },
    {
      "cell_type": "markdown",
      "metadata": {
        "id": "ofpXRx8vCojg"
      },
      "source": [
        "#### Pre-defined code"
      ]
    },
    {
      "cell_type": "code",
      "execution_count": 21,
      "metadata": {
        "id": "kHLcJ3UpCojh"
      },
      "outputs": [],
      "source": [
        "class Node:\n",
        "    def __init__(self, item):\n",
        "        self.left = None\n",
        "        self.right = None\n",
        "        self.val = item"
      ]
    },
    {
      "cell_type": "code",
      "execution_count": 22,
      "metadata": {
        "id": "zzSAtuExCojj"
      },
      "outputs": [],
      "source": [
        "def inorder(root):\n",
        "\n",
        "    if root:\n",
        "        # Traverse left\n",
        "        inorder(root.left)\n",
        "        # Traverse root\n",
        "        print(str(root.val) + \"->\", end='')\n",
        "        # Traverse right\n",
        "        inorder(root.right)\n",
        "\n",
        "def postorder(root):\n",
        "\n",
        "    if root:\n",
        "        # Traverse left\n",
        "        postorder(root.left)\n",
        "        # Traverse right\n",
        "        postorder(root.right)\n",
        "        # Traverse root\n",
        "        print(str(root.val) + \"->\", end='')\n",
        "\n",
        "def preorder(root):\n",
        "\n",
        "    if root:\n",
        "        # Traverse root\n",
        "        print(str(root.val) + \"->\", end='')\n",
        "        # Traverse left\n",
        "        preorder(root.left)\n",
        "        # Traverse right\n",
        "        preorder(root.right)"
      ]
    },
    {
      "cell_type": "markdown",
      "metadata": {
        "id": "gM4nfJebCojj"
      },
      "source": [
        "#### 1. Construct Create your own company org chart and put yourself as CEO.\n",
        "\n",
        "Using a Tree data structure,\n",
        "\n",
        "- Assign yourself as CEO\n",
        "\n",
        "- Assign any of your classmate as HR Director\n",
        "- Assign any of your classmate as Sales Director\n",
        "\n",
        "- Assign any of your classmate as trainee. His/her boss is the HR Director\n",
        "- Assign any of your classmate as a staff and trainee. Their boss is the Sales Director\n"
      ]
    },
    {
      "cell_type": "markdown",
      "metadata": {
        "id": "Vk_baMLCCojk"
      },
      "source": [
        "<img src=\"https://thumbs.dreamstime.com/z/cartoon-organization-chart-some-company-93778925.jpg\"/>"
      ]
    },
    {
      "cell_type": "code",
      "execution_count": 23,
      "metadata": {
        "id": "5yWzX2mmCojk"
      },
      "outputs": [],
      "source": [
        "root = Node(\"Jaira Marcial - CEO\")\n",
        "root.left = Node(\"Elijah Lirios - HR Director\")\n",
        "root.right = Node(\"Renz Alis - Sales Director\")\n",
        "root.left.left = Node(\"Kristel Malubay - Trainee (HR)\")\n",
        "root.left.right = Node(\"Khyle Hernandez -  Trainee (Sales)\")"
      ]
    },
    {
      "cell_type": "markdown",
      "metadata": {
        "id": "dDvwdmSzCojl"
      },
      "source": [
        "#### 2. Traverse the tree in in-order traversal"
      ]
    },
    {
      "cell_type": "code",
      "execution_count": 24,
      "metadata": {
        "id": "kBsddpJQCojm",
        "colab": {
          "base_uri": "https://localhost:8080/"
        },
        "outputId": "9a928bb4-7d48-4805-a4c5-5be90bb30c79"
      },
      "outputs": [
        {
          "output_type": "stream",
          "name": "stdout",
          "text": [
            "In-order Traversal\n",
            "Kristel Malubay - Trainee (HR)->Elijah Lirios - HR Director->Khyle Hernandez -  Trainee (Sales)->Jaira Marcial - CEO->Renz Alis - Sales Director->"
          ]
        }
      ],
      "source": [
        "print(\"In-order Traversal\")\n",
        "inorder(root)"
      ]
    },
    {
      "cell_type": "markdown",
      "metadata": {
        "id": "lwchUBe5Cojn"
      },
      "source": [
        "#### 3. Traverse the tree in pre-order traversal"
      ]
    },
    {
      "cell_type": "code",
      "execution_count": 25,
      "metadata": {
        "id": "PpOBtqRxCojo",
        "colab": {
          "base_uri": "https://localhost:8080/"
        },
        "outputId": "a1d76175-4327-4551-e1cb-d4b961817212"
      },
      "outputs": [
        {
          "output_type": "stream",
          "name": "stdout",
          "text": [
            "Pre-order Traversal\n",
            "Jaira Marcial - CEO->Elijah Lirios - HR Director->Kristel Malubay - Trainee (HR)->Khyle Hernandez -  Trainee (Sales)->Renz Alis - Sales Director->"
          ]
        }
      ],
      "source": [
        "print(\"Pre-order Traversal\")\n",
        "preorder(root)"
      ]
    },
    {
      "cell_type": "markdown",
      "metadata": {
        "id": "g37Q6UffCojp"
      },
      "source": [
        "#### 4. Traverse the tree in post-order traversal"
      ]
    },
    {
      "cell_type": "code",
      "execution_count": 26,
      "metadata": {
        "id": "NsGaZ2HYCojp",
        "colab": {
          "base_uri": "https://localhost:8080/"
        },
        "outputId": "ec40296a-550a-4438-e5a8-85828c12add1"
      },
      "outputs": [
        {
          "output_type": "stream",
          "name": "stdout",
          "text": [
            "Post-order Traversal\n",
            "Kristel Malubay - Trainee (HR)->Khyle Hernandez -  Trainee (Sales)->Elijah Lirios - HR Director->Renz Alis - Sales Director->Jaira Marcial - CEO->"
          ]
        }
      ],
      "source": [
        "print(\"Post-order Traversal\")\n",
        "postorder(root)"
      ]
    }
  ],
  "metadata": {
    "kernelspec": {
      "display_name": "Python 3",
      "language": "python",
      "name": "python3"
    },
    "language_info": {
      "codemirror_mode": {
        "name": "ipython",
        "version": 3
      },
      "file_extension": ".py",
      "mimetype": "text/x-python",
      "name": "python",
      "nbconvert_exporter": "python",
      "pygments_lexer": "ipython3",
      "version": "3.11.4"
    },
    "orig_nbformat": 4,
    "colab": {
      "provenance": [],
      "include_colab_link": true
    }
  },
  "nbformat": 4,
  "nbformat_minor": 0
}
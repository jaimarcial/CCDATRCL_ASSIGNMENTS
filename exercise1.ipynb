{
  "cells": [
    {
      "cell_type": "markdown",
      "metadata": {
        "id": "h2vFiYhGzZOg"
      },
      "source": [
        "# Exercise 1"
      ]
    },
    {
      "cell_type": "markdown",
      "source": [
        "## Class Initialization"
      ],
      "metadata": {
        "id": "sRm6kPQozcaU"
      }
    },
    {
      "cell_type": "code",
      "execution_count": 18,
      "metadata": {
        "id": "b1u4Dt9mzZOi"
      },
      "outputs": [],
      "source": [
        "class Node:\n",
        "    def __init__(self, data):\n",
        "        self.data = data\n",
        "        self.next = None\n",
        "        self.prev = None"
      ]
    },
    {
      "cell_type": "code",
      "execution_count": 19,
      "metadata": {
        "id": "tigvHSaHzZOj"
      },
      "outputs": [],
      "source": [
        "class LinkedList:\n",
        "\n",
        "    def __init__(self):\n",
        "        self.head = None\n",
        "\n",
        "    def traverse(self, node):\n",
        "        while node:\n",
        "            print(node.data, end=\" -> \")\n",
        "            node = node.next"
      ]
    },
    {
      "cell_type": "code",
      "execution_count": 25,
      "metadata": {
        "id": "LIkQBioVzZOk"
      },
      "outputs": [],
      "source": [
        "class DoublyLinkedList:\n",
        "\n",
        "    def __init__(self):\n",
        "        self.head = None\n",
        "\n",
        "    def traverse(self, node):\n",
        "        while node:\n",
        "            print(node.data, end=\" -> \")\n",
        "            node = node.next"
      ]
    },
    {
      "cell_type": "code",
      "execution_count": 30,
      "metadata": {
        "id": "zlxNT5EozZOl"
      },
      "outputs": [],
      "source": [
        "class CircularLinkedList:\n",
        "\n",
        "    def __init__(self):\n",
        "        self.head = None\n",
        "\n",
        "    def traverse(self, node):\n",
        "\n",
        "        head = node\n",
        "\n",
        "        while node:\n",
        "            print(node.data, end=\" -> \")\n",
        "            node = node.next\n",
        "\n",
        "            # Break to prevent infinite loop\n",
        "            if node == head:\n",
        "                break"
      ]
    },
    {
      "cell_type": "markdown",
      "metadata": {
        "id": "O68-Q1-bzZOl"
      },
      "source": [
        "#### 1. Create a Singly Linked list\n",
        "\n",
        "- Each node should contain your name and your seatmates in your row\n",
        "- Create at least 5 nodes\n",
        "- Traverse all nodes"
      ]
    },
    {
      "cell_type": "code",
      "execution_count": 20,
      "metadata": {
        "id": "pTcx_OuPzZOl",
        "colab": {
          "base_uri": "https://localhost:8080/"
        },
        "outputId": "4391bcfd-aa06-4d6b-94ad-ed54f685ed4b"
      },
      "outputs": [
        {
          "output_type": "stream",
          "name": "stdout",
          "text": [
            "Jai -> Elijah -> Renz -> Kristel -> Khyle -> Rodney -> "
          ]
        }
      ],
      "source": [
        "classmates_singly = LinkedList()\n",
        "\n",
        "classmates_singly.head = Node(\"Jai\")\n",
        "node_b = Node(\"Elijah\")\n",
        "node_c = Node(\"Renz\")\n",
        "node_d = Node(\"Kristel\")\n",
        "node_e = Node(\"Khyle\")\n",
        "node_f = Node(\"Rodney\")\n",
        "\n",
        "classmates_singly.head.next = node_b\n",
        "node_b.next = node_c\n",
        "node_c .next = node_d\n",
        "node_d.next = node_e\n",
        "node_e.next = node_f\n",
        "\n",
        "classmates_singly.traverse(classmates_singly.head)"
      ]
    },
    {
      "cell_type": "markdown",
      "metadata": {
        "id": "IFgwbdw_zZOm"
      },
      "source": [
        "#### 2. Create a Doubly Linked list\n",
        "\n",
        "- Each node should contain your name and your seatmates in your row\n",
        "- Create at least 5 nodes\n",
        "- Traverse all nodes"
      ]
    },
    {
      "cell_type": "code",
      "execution_count": 28,
      "metadata": {
        "id": "8kQD2A_QzZOm",
        "colab": {
          "base_uri": "https://localhost:8080/"
        },
        "outputId": "b314a8ed-4090-4c17-c893-d04aabfecce9"
      },
      "outputs": [
        {
          "output_type": "stream",
          "name": "stdout",
          "text": [
            "Jai -> Elijah -> Renz -> Kristel -> Khyle -> Rodney -> "
          ]
        }
      ],
      "source": [
        "classmates_doubly = DoublyLinkedList()\n",
        "\n",
        "classmates_doubly.head = Node(\"Jai\")\n",
        "node_b = Node(\"Elijah\")\n",
        "node_c = Node(\"Renz\")\n",
        "node_d = Node(\"Kristel\")\n",
        "node_e = Node(\"Khyle\")\n",
        "node_f = Node(\"Rodney\")\n",
        "\n",
        "classmates_doubly.head.prev = None\n",
        "classmates_doubly.head.next = node_b\n",
        "\n",
        "node_b.prev = classmates_doubly.head\n",
        "node_b.next = node_c\n",
        "\n",
        "node_c.prev = node_b\n",
        "node_c.next = node_d\n",
        "\n",
        "node_d.prev = node_c\n",
        "node_d.next = node_e\n",
        "\n",
        "node_e.prev = node_d\n",
        "node_e.next = node_f\n",
        "\n",
        "node_f.prev = node_e\n",
        "node_f.next = None\n",
        "\n",
        "classmates_doubly.traverse(classmates_doubly.head)\n"
      ]
    },
    {
      "cell_type": "markdown",
      "metadata": {
        "id": "rtApbsCjzZOm"
      },
      "source": [
        "#### 3. Create a Circular Linked list\n",
        "\n",
        "- Each node should contain your name and your seatmates in your row\n",
        "- Create at least 5 nodes\n",
        "- Traverse all nodes"
      ]
    },
    {
      "cell_type": "code",
      "execution_count": 31,
      "metadata": {
        "id": "Gp1Oiq0jzZOn",
        "colab": {
          "base_uri": "https://localhost:8080/"
        },
        "outputId": "70590e67-62f4-4e83-e086-0500cd58209e"
      },
      "outputs": [
        {
          "output_type": "stream",
          "name": "stdout",
          "text": [
            "Jai -> Elijah -> Renz -> Kristel -> Khyle -> Rodney -> "
          ]
        }
      ],
      "source": [
        "classmates_circular = CircularLinkedList()\n",
        "\n",
        "classmates_circular.head = Node(\"Jai\")\n",
        "node_b = Node(\"Elijah\")\n",
        "node_c = Node(\"Renz\")\n",
        "node_d = Node(\"Kristel\")\n",
        "node_e = Node(\"Khyle\")\n",
        "node_f = Node(\"Rodney\")\n",
        "\n",
        "\n",
        "classmates_circular.head.next = node_b\n",
        "node_b.next = node_c\n",
        "node_c.next = node_d\n",
        "node_d.next = node_e\n",
        "node_e.next = node_f\n",
        "node_f.next = classmates_circular.head\n",
        "\n",
        "classmates_circular.traverse(classmates_circular.head)"
      ]
    }
  ],
  "metadata": {
    "kernelspec": {
      "display_name": "Python 3",
      "language": "python",
      "name": "python3"
    },
    "language_info": {
      "name": "python",
      "version": "3.11.4"
    },
    "orig_nbformat": 4,
    "colab": {
      "provenance": []
    }
  },
  "nbformat": 4,
  "nbformat_minor": 0
}